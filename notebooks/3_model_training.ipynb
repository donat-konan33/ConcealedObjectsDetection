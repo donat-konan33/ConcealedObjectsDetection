{
 "cells": [
  {
   "cell_type": "markdown",
   "id": "0a321b3b",
   "metadata": {},
   "source": [
    "# Model training\n",
    "We Use ``Yolov8`` becuase of its [best accuracy and speed resolved](https://docs.ultralytics.com/models/yolov8/) object detection issues.\n"
   ]
  },
  {
   "cell_type": "markdown",
   "id": "1a048a39",
   "metadata": {},
   "source": [
    "#### Model training and validation\n",
    "As data has been already split we use it for our model training and validation."
   ]
  },
  {
   "cell_type": "code",
   "execution_count": null,
   "id": "f848c069",
   "metadata": {},
   "outputs": [],
   "source": []
  }
 ],
 "metadata": {
  "kernelspec": {
   "display_name": ".venv",
   "language": "python",
   "name": "python3"
  },
  "language_info": {
   "codemirror_mode": {
    "name": "ipython",
    "version": 3
   },
   "file_extension": ".py",
   "mimetype": "text/x-python",
   "name": "python",
   "nbconvert_exporter": "python",
   "pygments_lexer": "ipython3",
   "version": "3.9.20"
  }
 },
 "nbformat": 4,
 "nbformat_minor": 5
}
