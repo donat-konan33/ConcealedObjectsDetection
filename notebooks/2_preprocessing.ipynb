{
 "cells": [
  {
   "cell_type": "markdown",
   "id": "ba9ebe2a",
   "metadata": {},
   "source": [
    "# **Principal Components Analysis (PCA)**"
   ]
  },
  {
   "cell_type": "markdown",
   "id": "b07b5824",
   "metadata": {},
   "source": [
    "***We need to preprocess images in order to reduce model training time.***\n",
    "\n",
    "Preprocessing ongoing ..."
   ]
  }
 ],
 "metadata": {
  "kernelspec": {
   "display_name": ".venv",
   "language": "python",
   "name": "python3"
  },
  "language_info": {
   "name": "python",
   "version": "3.9.20"
  }
 },
 "nbformat": 4,
 "nbformat_minor": 5
}
