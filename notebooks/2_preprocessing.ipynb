{
 "cells": [
  {
   "cell_type": "markdown",
   "id": "ba9ebe2a",
   "metadata": {},
   "source": [
    "# **Principal Components Analysis (PCA)**"
   ]
  },
  {
   "cell_type": "markdown",
   "id": "b07b5824",
   "metadata": {},
   "source": [
    "***We need to preprocess images in order to reduce model training time.***\n",
    "\n",
    "Preprocessing ongoing ..."
   ]
  }
 ],
 "metadata": {
  "language_info": {
   "name": "python"
  }
 },
 "nbformat": 4,
 "nbformat_minor": 5
}
